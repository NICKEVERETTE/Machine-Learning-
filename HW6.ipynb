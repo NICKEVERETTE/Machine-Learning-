{
 "cells": [
  {
   "cell_type": "markdown",
   "metadata": {},
   "source": [
    "# Homework 6 RF Accuracy Improvement\n",
    "\n",
    "This assignment is inspired by examples of Shan-Hung Wu from National Tsing Hua University.\n",
    "\n",
    "Requirement: improve the accuracy per feature of the following code from 0.03 up to at least 0.40 and accuracy should be more than 0.92\n",
    "\n",
    "Here are three hints:\n",
    "\n",
    "    You can improve the ratio by picking out or \"creating\" several features.\n",
    "    Tune hyperparameters\n",
    "    The ratio can be improved from 0.03 up to 0.47."
   ]
  },
  {
   "cell_type": "code",
   "execution_count": 29,
   "metadata": {},
   "outputs": [
    {
     "name": "stdout",
     "output_type": "stream",
     "text": [
      "(569, 30)\n",
      "Fitting 5 folds for each of 160 candidates, totalling 800 fits\n",
      "Train Accuracy - : 0.984\n",
      "Test Accuracy - : 0.979\n",
      "Best hyperparameter values: {'bootstrap': False, 'max_depth': 4, 'min_samples_split': 2, 'n_estimators': 20}\n",
      "Average, training dataset: 0.049178403755868544\n",
      "Average, test dataset: 0.04895104895104895\n"
     ]
    }
   ],
   "source": [
    "from sklearn.model_selection import train_test_split\n",
    "from sklearn.datasets import load_breast_cancer\n",
    "from sklearn.metrics import accuracy_score\n",
    "from sklearn.ensemble import RandomForestClassifier\n",
    "from sklearn.model_selection import train_test_split\n",
    "import numpy as np\n",
    "from sklearn.model_selection import GridSearchCV\n",
    "\n",
    "\n",
    "# load the breast_cancer dataset\n",
    "init_data = load_breast_cancer()\n",
    "(X, y) = load_breast_cancer(return_X_y=True)\n",
    "\n",
    "print(X.shape)\n",
    "\n",
    "x_train, x_test, y_train, y_test = train_test_split(X, y, test_size = 0.25, random_state=10)\n",
    "\n",
    "# TODO Select some features (X), hint: based on the connections with\n",
    "# our Y (importance? correlation?) ---> split_train_test()\n",
    "\n",
    "rf_Model = RandomForestClassifier()\n",
    "rf_Model.fit(x_train, y_train)\n",
    "\n",
    "sorted_feature_indices = rf_Model.feature_importances_.argsort()[0:30]\n",
    "\n",
    "filtered_x_train = x_train[:,sorted_feature_indices]\n",
    "filtered_x_test = x_test[:,sorted_feature_indices]\n",
    "\n",
    "n_estimators = [int(x) for x in np.linspace(start = 10, stop = 100, num = 10)]\n",
    "max_depth = np.arange(1,5)\n",
    "min_samples_split = [2,3]\n",
    "bootstrap = [True, False]\n",
    "hyperparams = {'n_estimators': n_estimators,\n",
    "               'min_samples_split': min_samples_split,\n",
    "               'max_depth': max_depth,\n",
    "               'bootstrap': bootstrap}\n",
    "\n",
    "param_grid = {'n_estimators': n_estimators,\n",
    "               'max_depth': max_depth,\n",
    "               'min_samples_split': min_samples_split,\n",
    "               'bootstrap': bootstrap}\n",
    "\n",
    "\n",
    "# TODO need 5 fold cross validation       ------> 06.00 Figure Code\n",
    "\n",
    "rf_Grid = GridSearchCV(estimator = rf_Model, param_grid = hyperparams, cv = 5, verbose=2, n_jobs = 10)\n",
    "rf_Grid.fit(x_train, y_train)\n",
    "\n",
    "# TODO Tune parameters for RandomForestClassifier   ----> Group activity 9\n",
    "\n",
    "rf_Grid.best_params_\n",
    "\n",
    "accuracy_training_data = rf_Grid.score(filtered_x_train,y_train)\n",
    "accuracy_test_data = rf_Grid.score(filtered_x_test,y_test)\n",
    "\n",
    "# TODO Calculate Average accuracy score\n",
    "print (f'Train Accuracy - : {rf_Grid.score(x_train,y_train):.3f}')\n",
    "print (f'Test Accuracy - : {rf_Grid.score(x_test,y_test):.3f}')\n",
    "# TODO Calculate Average (accuracy score/number of features)\n",
    "print('Best hyperparameter values: ' + repr(rf_Grid.best_params_))\n",
    "print('Average, training dataset: ' + repr(rf_Grid.score(x_train,y_train)/20))\n",
    "print('Average, test dataset: ' + repr(rf_Grid.score(x_test,y_test)/20))"
   ]
  },
  {
   "cell_type": "code",
   "execution_count": null,
   "metadata": {},
   "outputs": [],
   "source": []
  }
 ],
 "metadata": {
  "kernelspec": {
   "display_name": "Python 3",
   "language": "python",
   "name": "python3"
  },
  "language_info": {
   "codemirror_mode": {
    "name": "ipython",
    "version": 3
   },
   "file_extension": ".py",
   "mimetype": "text/x-python",
   "name": "python",
   "nbconvert_exporter": "python",
   "pygments_lexer": "ipython3",
   "version": "3.8.8"
  }
 },
 "nbformat": 4,
 "nbformat_minor": 2
}
